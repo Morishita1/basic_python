{
 "cells": [
  {
   "cell_type": "markdown",
   "metadata": {},
   "source": [
    "#### **class란**\n",
    " + 실세계를 모델링하여 속성(변수)과 동작(메서드)을 갖는 데이터 타입\n",
    " + Python은 string, int, list, dict... 등 모두 다 객체로 사용\n",
    " + 학생 Type을 사용하고 싶은데 Python에서 제공한느 데이터 타입에는 학생Type이 존재하지 않음, 내가 class를 사용해서 직접 학생 Type을 정의해서 사용\n",
    " + 학생 class를 생성할 때 학생을 나타내는 속성과 행동을 함께 정의\n",
    " + 변수와 메서드를 하나로 캡슐화하여 클래스로 표현"
   ]
  },
  {
   "cell_type": "code",
   "execution_count": 2,
   "metadata": {},
   "outputs": [
    {
     "name": "stdout",
     "output_type": "stream",
     "text": [
      "[1, 2, 3, 4, 5]\n",
      "<class 'list'>\n"
     ]
    }
   ],
   "source": [
    "a = [1, 2, 3, 4]\n",
    "a.append(5)\n",
    "print(a)\n",
    "print(type(a))"
   ]
  },
  {
   "cell_type": "markdown",
   "metadata": {},
   "source": [
    "#### **object란**\n",
    " + class로 생성도어 구체화된 객체(인스턴스)\n",
    " + 파이썬의 모든 것(int, str, list, dict 등)은 객체(인스턴스)\n",
    " + 실제로 class가 인스턴스화 되어 메모리에 상주하는 상태를 의미\n",
    " + class가 빵틀이라면, object는 실제로 빵틀을 찍어낸 빵이라고 비유"
   ]
  },
  {
   "cell_type": "markdown",
   "metadata": {},
   "source": [
    "#### **객체사용 3단계**\n",
    "1. class 설계\n",
    "```python\n",
    "class Test:\n",
    "    def resultPrint(name):\n",
    "        print(name,'입니다')\n",
    "```\n",
    "2. 객체생성(인스턴스)\n",
    "```python\n",
    "Test test = new Test(); -> Java\n",
    "test = Test() - Python\n",
    "```\n",
    "3. 인스턴스 사용\n",
    "```python\n",
    "test.resultPrint(\"초롱\"); -> Java\n",
    "test.resultPrint('초롱') -> Pyhton\n",
    "```"
   ]
  },
  {
   "cell_type": "markdown",
   "metadata": {},
   "source": [
    "#### **class로 만든 객체를 인스턴스라고 한다. 그렇다면 객체와 인스턴스의 차이는 무엇일까?**\n",
    "\n",
    "a = Cookie()  \n",
    "a는 객체다. 그리고 a객체는 Cookie의 인스턴스이다.  \n",
    " : 관계위주로 설명할 때는 인스턴스  \n",
    " : 'a는 인스턴스'보다는 'a는 객체'라는 표현이 어울린다.  \n",
    " : 'a는 Cookie의 객체'보다는 'a는 Cookie의 인스턴스'라는 표현이 잘어울린다"
   ]
  },
  {
   "cell_type": "markdown",
   "metadata": {},
   "source": [
    "#### **class 선언하기**"
   ]
  },
  {
   "cell_type": "code",
   "execution_count": 3,
   "metadata": {},
   "outputs": [],
   "source": [
    "class Person:\n",
    "    pass"
   ]
  },
  {
   "cell_type": "code",
   "execution_count": 6,
   "metadata": {},
   "outputs": [
    {
     "name": "stdout",
     "output_type": "stream",
     "text": [
      "<class '__main__.Person'> <class '__main__.Person'>\n",
      "113693136 113693080\n"
     ]
    }
   ],
   "source": [
    "cherry = Person()\n",
    "tom = Person()\n",
    "\n",
    "# 같은 class로 객체생성을 해도 다른 객체로 인식\n",
    "# id() = 객체가 상주하는 메모리의 주소(번지수)\n",
    "print(type(cherry), type(tom))\n",
    "print(id(cherry), id(tom))"
   ]
  },
  {
   "cell_type": "code",
   "execution_count": 8,
   "metadata": {},
   "outputs": [
    {
     "name": "stdout",
     "output_type": "stream",
     "text": [
      "<class 'list'> <class 'list'>\n",
      "85290952 113756744\n"
     ]
    }
   ],
   "source": [
    "a = list()\n",
    "b = list()\n",
    "\n",
    "print(type(a), type(b))\n",
    "print(id(a), id(b))"
   ]
  },
  {
   "cell_type": "markdown",
   "metadata": {},
   "source": [
    "#### **__init__(self): 생성자()**\n",
    " + class로 객체 생성할 때 호출됨\n",
    " + self인자는 항상 첫번째에 오며 자기 자신을 가리킴\n",
    " + 이름이 꼭 self일 필요는 없지만 관례\n",
    " + 객체생성시 변수 초기화, 메서드 실행"
   ]
  },
  {
   "cell_type": "code",
   "execution_count": 10,
   "metadata": {},
   "outputs": [
    {
     "name": "stdout",
     "output_type": "stream",
     "text": [
      "생성자 호출!\n",
      "생성자 호출!\n"
     ]
    }
   ],
   "source": [
    "# class 내부에 선언된 method 반드시 첫번째 매개변수로 self를 가져야함\n",
    "class Person:\n",
    "    def __init__(self): # 생성자\n",
    "        print('생성자 호출!')\n",
    "    def printName(self): # 일반 메서드\n",
    "        print('테스트에요~')\n",
    "        \n",
    "p1 = Person()\n",
    "p2 = Person()"
   ]
  },
  {
   "cell_type": "markdown",
   "metadata": {},
   "source": [
    "```python\n",
    "public class Person {\n",
    "    private String name;\n",
    "    private String major;\n",
    "    \n",
    "    public Pershon(name, major) {\n",
    "        this.name = name;\n",
    "        this.major = major;\n",
    "    }\n",
    "}\n",
    "```"
   ]
  },
  {
   "cell_type": "code",
   "execution_count": 18,
   "metadata": {},
   "outputs": [
    {
     "name": "stdout",
     "output_type": "stream",
     "text": [
      "생성자 호출!\n",
      "생성자 호출!\n",
      "이름: 초롱 , 전공: 데이터과학 ,  민꽁\n",
      "이름: 체리 , 전공: 애완견 ,  민꽁\n"
     ]
    }
   ],
   "source": [
    "# Python self는 Java의 this\n",
    "# Python은 self.name 하면 객체변수라고 자동으로 생성\n",
    "num = 3 # 전역변수\n",
    "class Person:\n",
    "    name = '민꽁'                        # 클래스변수(클래스이름으로 호출)\n",
    "    # p1.name  <- '초롱'                 # 객체변수\n",
    "    # p1.major  <- '데이터과학'          # 객체변수\n",
    "    def __init__(self, name, major): # 생성자\n",
    "        print('생성자 호출!')\n",
    "        self.name = name  # p1.name = name\n",
    "        self.major = major # p1.major = major\n",
    "    def printName(self): # 일반 메서드\n",
    "        print('이름:', self.name, ', 전공:', self.major, ', ', Person.name)\n",
    "\n",
    "p1 = Person('초롱','데이터과학')\n",
    "p2 = Person('체리','애완견')\n",
    "p1.printName()\n",
    "p2.printName()"
   ]
  }
 ],
 "metadata": {
  "kernelspec": {
   "display_name": "Python 3",
   "language": "python",
   "name": "python3"
  },
  "language_info": {
   "codemirror_mode": {
    "name": "ipython",
    "version": 3
   },
   "file_extension": ".py",
   "mimetype": "text/x-python",
   "name": "python",
   "nbconvert_exporter": "python",
   "pygments_lexer": "ipython3",
   "version": "3.7.3"
  }
 },
 "nbformat": 4,
 "nbformat_minor": 2
}
