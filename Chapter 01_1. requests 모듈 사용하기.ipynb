{
 "cells": [
  {
   "cell_type": "markdown",
   "metadata": {},
   "source": [
    "#### **requests 모듈**\n",
    " 1. http request/response를 위한 모듈\n",
    " 2. HTTP method를 메서드 명으로 사용하여 requset요청 예)get, post"
   ]
  },
  {
   "cell_type": "code",
   "execution_count": 1,
   "metadata": {},
   "outputs": [],
   "source": [
    "import requests"
   ]
  },
  {
   "cell_type": "markdown",
   "metadata": {},
   "source": [
    "#### **get 요청하기**\n",
    "  1. http get 요청하기"
   ]
  },
  {
   "cell_type": "code",
   "execution_count": null,
   "metadata": {},
   "outputs": [],
   "source": [
    "url = 'https://news.v.daum.net/v/20191001120654098'\n",
    "html = requests.get(url)\n",
    "html.text"
   ]
  },
  {
   "cell_type": "markdown",
   "metadata": {},
   "source": [
    "#### **HTTP response 처리하기**"
   ]
  },
  {
   "cell_type": "code",
   "execution_count": 5,
   "metadata": {},
   "outputs": [
    {
     "name": "stdout",
     "output_type": "stream",
     "text": [
      "크롤링 시작!!!\n"
     ]
    }
   ],
   "source": [
    "url = 'https://news.v.daum.net/v/20191001120654098'\n",
    "html = requests.get(url)\n",
    "\n",
    "if html.status_code == 200:\n",
    "    print('크롤링 시작!!!')\n",
    "else:\n",
    "    print('페이지를 찾을 수 없습니다')\n",
    "    print('크롤링 종료 :(')"
   ]
  }
 ],
 "metadata": {
  "kernelspec": {
   "display_name": "Python 3",
   "language": "python",
   "name": "python3"
  },
  "language_info": {
   "codemirror_mode": {
    "name": "ipython",
    "version": 3
   },
   "file_extension": ".py",
   "mimetype": "text/x-python",
   "name": "python",
   "nbconvert_exporter": "python",
   "pygments_lexer": "ipython3",
   "version": "3.7.3"
  }
 },
 "nbformat": 4,
 "nbformat_minor": 2
}
