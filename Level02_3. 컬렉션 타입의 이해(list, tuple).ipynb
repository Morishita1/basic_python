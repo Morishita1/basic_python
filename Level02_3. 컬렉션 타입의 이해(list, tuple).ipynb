{
 "cells": [
  {
   "cell_type": "markdown",
   "metadata": {},
   "source": [
    "### list, tuple, set, dictionary\n",
    " - 여러개의 데이터를 담을 수 있는 type\n",
    " - JAVA(list, map, set)이 존재\n",
    " \n",
    "list : 생성된 후에 값 변경 가능  \n",
    "tuple : 생성된 후에 값 변경 불가능"
   ]
  },
  {
   "cell_type": "code",
   "execution_count": 7,
   "metadata": {},
   "outputs": [
    {
     "name": "stdout",
     "output_type": "stream",
     "text": [
      "A\n"
     ]
    }
   ],
   "source": [
    "# 학점 관리 프로그램\n",
    "# A, B, C, D, F\n",
    "grade = ['A','B','C','D','F']\n",
    "score= 92\n",
    "if score >= 90:\n",
    "    print(grade[0])\n",
    "elif score >= 80:\n",
    "    print(grade[1])\n",
    "# ..."
   ]
  },
  {
   "cell_type": "markdown",
   "metadata": {},
   "source": [
    "### 리스트를 생성 방법\n",
    "1. [, ,] 값을 담음\n",
    "2. list() 함수로 생성\n",
    "3. str.split() 함수로 생성"
   ]
  },
  {
   "cell_type": "code",
   "execution_count": 9,
   "metadata": {},
   "outputs": [],
   "source": [
    "# java 예약어로 변수를 생성함녀 에러가 발생\n",
    "# python 예약어로 ㅂ젼수 생성하면 생성되고, 기존에 예약어 기능을 상실함\n",
    "grade = [1,2,3,4,5]\n",
    "list = ['A','B','C'] #리스트타입의 list변수를 생성 but list() 사용불가\n",
    "# list에 이름을 변경하면 되는데, \n",
    "# String name = 'cholong'; 기본자료형 X, 객체자료형\n",
    "# name = '파이리';\n",
    "del list # 백그라운드 객체 제거\n",
    "a = list()\n"
   ]
  },
  {
   "cell_type": "markdown",
   "metadata": {},
   "source": [
    " - 다양한 데이터 타입을 담을 수 있음"
   ]
  },
  {
   "cell_type": "code",
   "execution_count": 10,
   "metadata": {},
   "outputs": [
    {
     "name": "stdout",
     "output_type": "stream",
     "text": [
      "[]\n"
     ]
    }
   ],
   "source": [
    "a= []\n",
    "print(a)"
   ]
  },
  {
   "cell_type": "code",
   "execution_count": 11,
   "metadata": {},
   "outputs": [
    {
     "name": "stdout",
     "output_type": "stream",
     "text": [
      "[1, 2, 3, 4, 5]\n"
     ]
    }
   ],
   "source": [
    "a=[1,2,3,4,5]\n",
    "print(a)"
   ]
  },
  {
   "cell_type": "code",
   "execution_count": 12,
   "metadata": {},
   "outputs": [
    {
     "name": "stdout",
     "output_type": "stream",
     "text": [
      "['korea', '파이리', 'A', 1, 23, [34, 56]]\n"
     ]
    }
   ],
   "source": [
    "a= ['korea','파이리','A',1,23,[34,56]]\n",
    "print(a)"
   ]
  },
  {
   "cell_type": "markdown",
   "metadata": {},
   "source": [
    " - list() 함수\n",
    "   - 다른 데이터 타입을 list로 변경시킬 때 많이 사용"
   ]
  },
  {
   "cell_type": "code",
   "execution_count": 14,
   "metadata": {},
   "outputs": [
    {
     "name": "stdout",
     "output_type": "stream",
     "text": [
      "['H', 'e', 'l', 'l', 'o', ' ', 'P', 'y', 't', 'h', 'o', 'n']\n",
      "[1, 2, 3]\n"
     ]
    }
   ],
   "source": [
    "c= 'Hello Python'\n",
    "d= list(c)\n",
    "print(d)\n",
    "\n",
    "e= (1,2,3) # 튜플\n",
    "f= list(e)\n",
    "print(f)"
   ]
  },
  {
   "cell_type": "markdown",
   "metadata": {},
   "source": [
    " - String split 함수(자주 사용)"
   ]
  },
  {
   "cell_type": "code",
   "execution_count": 16,
   "metadata": {},
   "outputs": [
    {
     "name": "stdout",
     "output_type": "stream",
     "text": [
      "['Life', 'is', 'too', 'short', 'you', 'need', 'python']\n"
     ]
    }
   ],
   "source": [
    "a= 'Life is too short you need python'\n",
    "b= a.split()\n",
    "print(b) # split()을 사용하면 결과 list  타입으로 담긴"
   ]
  },
  {
   "cell_type": "markdown",
   "metadata": {},
   "source": [
    "**리스트 인덱싱**"
   ]
  },
  {
   "cell_type": "code",
   "execution_count": 18,
   "metadata": {},
   "outputs": [
    {
     "name": "stdout",
     "output_type": "stream",
     "text": [
      "3\n",
      "6\n",
      "6\n"
     ]
    }
   ],
   "source": [
    "a= [1,2,3,4,5,6]\n",
    "print(a[2])\n",
    "print(a[5])\n",
    "print(a[-1])"
   ]
  },
  {
   "cell_type": "markdown",
   "metadata": {},
   "source": [
    " - 인덱스로 값을 변경\n",
    " - 파이썬에서 tuple과 문자열은 불변객체입니다. 생성하면 변경 불가!"
   ]
  },
  {
   "cell_type": "code",
   "execution_count": 21,
   "metadata": {},
   "outputs": [
    {
     "name": "stdout",
     "output_type": "stream",
     "text": [
      "[1, 2, 10, 4, 5]\n",
      "H\n"
     ]
    },
    {
     "ename": "TypeError",
     "evalue": "'str' object does not support item assignment",
     "output_type": "error",
     "traceback": [
      "\u001b[1;31m---------------------------------------------------------------------------\u001b[0m",
      "\u001b[1;31mTypeError\u001b[0m                                 Traceback (most recent call last)",
      "\u001b[1;32m<ipython-input-21-97ee084d6068>\u001b[0m in \u001b[0;36m<module>\u001b[1;34m\u001b[0m\n\u001b[0;32m      5\u001b[0m \u001b[0mb\u001b[0m\u001b[1;33m=\u001b[0m \u001b[1;34m'Hello Python'\u001b[0m\u001b[1;33m\u001b[0m\u001b[1;33m\u001b[0m\u001b[0m\n\u001b[0;32m      6\u001b[0m \u001b[0mprint\u001b[0m\u001b[1;33m(\u001b[0m\u001b[0mb\u001b[0m\u001b[1;33m[\u001b[0m\u001b[1;36m0\u001b[0m\u001b[1;33m]\u001b[0m\u001b[1;33m)\u001b[0m\u001b[1;33m\u001b[0m\u001b[1;33m\u001b[0m\u001b[0m\n\u001b[1;32m----> 7\u001b[1;33m \u001b[0mb\u001b[0m\u001b[1;33m[\u001b[0m\u001b[1;36m0\u001b[0m\u001b[1;33m]\u001b[0m \u001b[1;33m=\u001b[0m\u001b[1;34m'h'\u001b[0m\u001b[1;33m\u001b[0m\u001b[1;33m\u001b[0m\u001b[0m\n\u001b[0m\u001b[0;32m      8\u001b[0m \u001b[0mprint\u001b[0m\u001b[1;33m(\u001b[0m\u001b[0mb\u001b[0m\u001b[1;33m)\u001b[0m\u001b[1;33m\u001b[0m\u001b[1;33m\u001b[0m\u001b[0m\n",
      "\u001b[1;31mTypeError\u001b[0m: 'str' object does not support item assignment"
     ]
    }
   ],
   "source": [
    "a= [1,2,3,4,5]\n",
    "a[2]= 10\n",
    "print(a)\n",
    "\n",
    "b= 'Hello Python'\n",
    "print(b[0])\n",
    "b[0] ='h'\n",
    "print(b)"
   ]
  },
  {
   "cell_type": "code",
   "execution_count": 23,
   "metadata": {},
   "outputs": [
    {
     "name": "stdout",
     "output_type": "stream",
     "text": [
      "hello Python\n",
      "hello Python\n"
     ]
    }
   ],
   "source": [
    "# 불변이기 때문에 실제 변수에 값을 변경은 불가!!\n",
    "# 새로운 변수를 생성해서 기존값을 전처리 후 옮기는 방법\n",
    "b= 'Hello Python'\n",
    "c= 'h'+b[1:]\n",
    "print(c)\n",
    "\n",
    "d= b.replace('H','h')\n",
    "print(d)"
   ]
  },
  {
   "cell_type": "markdown",
   "metadata": {},
   "source": [
    "### 리스트 슬라이싱\n",
    " - 문자열 슬라이싱과 동일\n",
    " - 경과도 llist로 받음"
   ]
  },
  {
   "cell_type": "code",
   "execution_count": 29,
   "metadata": {},
   "outputs": [
    {
     "name": "stdout",
     "output_type": "stream",
     "text": [
      "[1, 2, 3, 4, 5, 6, 7, 8, 9, 10]\n",
      "[1, 2, 3, 4, 5]\n",
      "[6, 7, 8, 9, 10]\n",
      "[4, 5, 6, 7]\n"
     ]
    },
    {
     "data": {
      "text/plain": [
       "[1, 4, 7, 10]"
      ]
     },
     "execution_count": 29,
     "metadata": {},
     "output_type": "execute_result"
    }
   ],
   "source": [
    "a= [1,2,3,4,5,6,7,8,9,10]\n",
    "print(a[:])\n",
    "print(a[:5])\n",
    "print(a[5:])\n",
    "print(a[3:7])\n",
    "\n",
    "# 슬라이싱\n",
    "# 시작:끝:증가값(index)\n",
    "\n",
    "a[0:10]\n",
    "a[0:10:2]\n",
    "a[0:10:3]"
   ]
  },
  {
   "cell_type": "markdown",
   "metadata": {},
   "source": [
    "### 리스트 멤버 함수\n",
    " - append(): 가장 마지막에 값을 담음"
   ]
  },
  {
   "cell_type": "code",
   "execution_count": 31,
   "metadata": {},
   "outputs": [
    {
     "name": "stdout",
     "output_type": "stream",
     "text": [
      "[1, 2, 3, 4, 5, 10]\n"
     ]
    }
   ],
   "source": [
    "a= [1,2,3,4,5]\n",
    "a.append(10) # a를 가장 마지막에 담음\n",
    "print(a)"
   ]
  },
  {
   "cell_type": "markdown",
   "metadata": {},
   "source": [
    " - extend()"
   ]
  },
  {
   "cell_type": "code",
   "execution_count": 38,
   "metadata": {},
   "outputs": [
    {
     "name": "stdout",
     "output_type": "stream",
     "text": [
      "[1, 2, 3, [4, 5]]\n",
      "[1, 2, 3, 4, 5]\n",
      "[1, 2, 3, 4, 5]\n"
     ]
    }
   ],
   "source": [
    "a= [1,2,3]\n",
    "b=[4,5]\n",
    "# [1,2,3,4,5]\n",
    "a.append(b)\n",
    "print(a)\n",
    "del a\n",
    "a= [1,2,3]\n",
    "a.extend(b)\n",
    "print(a)\n",
    "del a\n",
    "a= [1,2,3]\n",
    "a+=b # == a.extend(b)\n",
    "print(a)"
   ]
  },
  {
   "cell_type": "markdown",
   "metadata": {},
   "source": [
    " - insert()\n",
    "   - 원하는 위치에 값을 추가 가능"
   ]
  },
  {
   "cell_type": "code",
   "execution_count": 40,
   "metadata": {},
   "outputs": [
    {
     "name": "stdout",
     "output_type": "stream",
     "text": [
      "[1, 10, 2, 3, 4, 5]\n"
     ]
    }
   ],
   "source": [
    "a= [1,2,3,4,5]\n",
    "a.insert(1,10) # 1번 인덱스에 10이라는 값을 추가\n",
    "               # 기존 1번인덱스값은 2번인덱스로 한칸씩 밀림\n",
    "print(a)"
   ]
  },
  {
   "cell_type": "markdown",
   "metadata": {},
   "source": [
    " - remove()\n",
    "   - 실제값으로 삭제(인덱스 X)\n",
    "   - 실제값과 동일한 값이 존재하는 경우 가장 앞에 값만 삭제\n",
    "   - 지우려는 실제값이 list에 없으면 에러 발생"
   ]
  },
  {
   "cell_type": "code",
   "execution_count": 41,
   "metadata": {},
   "outputs": [
    {
     "name": "stdout",
     "output_type": "stream",
     "text": [
      "[1, 2, 3, 4, 5]\n"
     ]
    }
   ],
   "source": [
    "a= [5,1,2,3,4,5]\n",
    "# a.remove(9)\n",
    "a.remove(5)\n",
    "print(a)"
   ]
  },
  {
   "cell_type": "markdown",
   "metadata": {},
   "source": [
    " - pop()\n",
    "   - 인덱스로 삭제\n",
    "   - 삭제하려는 인덱스에 값을 반환 후 삭제 가능\n",
    "   - 매개변수가 없으면 가장 마지막 값을 삭제"
   ]
  },
  {
   "cell_type": "code",
   "execution_count": 44,
   "metadata": {},
   "outputs": [
    {
     "name": "stdout",
     "output_type": "stream",
     "text": [
      "[1, 3, 4, 5]\n",
      "2\n"
     ]
    }
   ],
   "source": [
    "a=[1,2,3,4,5]\n",
    "# a.pop()\n",
    "b= a.pop(1) # b = 2, a[1]값을 삭제\n",
    "print(a)\n",
    "print(b)"
   ]
  },
  {
   "cell_type": "markdown",
   "metadata": {},
   "source": [
    " - index()\n",
    "   - 찾고자하는 값의 인덱스를 반환"
   ]
  },
  {
   "cell_type": "code",
   "execution_count": 48,
   "metadata": {},
   "outputs": [
    {
     "data": {
      "text/plain": [
       "0"
      ]
     },
     "execution_count": 48,
     "metadata": {},
     "output_type": "execute_result"
    }
   ],
   "source": [
    "a= [1,2,3,4,5]\n",
    "a.index(1) # 1이라고 하는 실제값의 인덱스를 반환"
   ]
  },
  {
   "cell_type": "markdown",
   "metadata": {},
   "source": [
    " - in 키워드\n",
    "   - 결과 : True, False\n",
    "   - list에 해당 값이 존재하는지 유무"
   ]
  },
  {
   "cell_type": "code",
   "execution_count": 50,
   "metadata": {},
   "outputs": [
    {
     "name": "stdout",
     "output_type": "stream",
     "text": [
      "False\n",
      "True\n"
     ]
    }
   ],
   "source": [
    "a= [1,2,3,4,5]\n",
    "b= 10\n",
    "c=b in a\n",
    "d=2\n",
    "print(c)\n",
    "print(d in a)"
   ]
  },
  {
   "cell_type": "markdown",
   "metadata": {},
   "source": [
    " - list 정렬\n",
    "   1. sort() : 기존 리스트를 정렬\n",
    "   2. sorted() : 복사본을 생성하고 정렬(기존 리스트는 그대로)"
   ]
  },
  {
   "cell_type": "code",
   "execution_count": 57,
   "metadata": {},
   "outputs": [
    {
     "name": "stdout",
     "output_type": "stream",
     "text": [
      "[5, 7, 8, 3, 4, 9, 10]\n",
      "[3, 4, 5, 7, 8, 9, 10]\n",
      "[10, 9, 8, 7, 5, 4, 3]\n",
      "[3, 4, 5, 7, 8, 9, 10]\n"
     ]
    }
   ],
   "source": [
    "a= [5,7,8,3,4,9,10]\n",
    "b=sorted(a) # 기존 a는 변경 안함\n",
    "print(a)\n",
    "print(b)\n",
    "a.sort(reverse=True) # 기존 a를 정렬, reverse=False(오름차순)\n",
    "print(a)\n",
    "print(b)"
   ]
  },
  {
   "cell_type": "markdown",
   "metadata": {},
   "source": [
    "### Tuple\n",
    " - 여러개의 값을 갖는 컬렉션 타입\n",
    " - 생성된 후 변경이 불가능\n",
    " - ()로 생성"
   ]
  },
  {
   "cell_type": "code",
   "execution_count": 60,
   "metadata": {},
   "outputs": [
    {
     "name": "stdout",
     "output_type": "stream",
     "text": [
      "(1, 2, 3)\n"
     ]
    },
    {
     "ename": "TypeError",
     "evalue": "'tuple' object does not support item assignment",
     "output_type": "error",
     "traceback": [
      "\u001b[1;31m---------------------------------------------------------------------------\u001b[0m",
      "\u001b[1;31mTypeError\u001b[0m                                 Traceback (most recent call last)",
      "\u001b[1;32m<ipython-input-60-0101ac12d7c2>\u001b[0m in \u001b[0;36m<module>\u001b[1;34m\u001b[0m\n\u001b[0;32m      2\u001b[0m \u001b[0mprint\u001b[0m\u001b[1;33m(\u001b[0m\u001b[0ma\u001b[0m\u001b[1;33m)\u001b[0m\u001b[1;33m\u001b[0m\u001b[1;33m\u001b[0m\u001b[0m\n\u001b[0;32m      3\u001b[0m \u001b[1;33m\u001b[0m\u001b[0m\n\u001b[1;32m----> 4\u001b[1;33m \u001b[0ma\u001b[0m\u001b[1;33m[\u001b[0m\u001b[1;36m0\u001b[0m\u001b[1;33m]\u001b[0m \u001b[1;33m=\u001b[0m\u001b[1;36m10\u001b[0m \u001b[1;31m#tuple 값 변경 불가능\u001b[0m\u001b[1;33m\u001b[0m\u001b[1;33m\u001b[0m\u001b[0m\n\u001b[0m\u001b[0;32m      5\u001b[0m \u001b[0mprint\u001b[0m\u001b[1;33m(\u001b[0m\u001b[0ma\u001b[0m\u001b[1;33m)\u001b[0m\u001b[1;33m\u001b[0m\u001b[1;33m\u001b[0m\u001b[0m\n",
      "\u001b[1;31mTypeError\u001b[0m: 'tuple' object does not support item assignment"
     ]
    }
   ],
   "source": [
    "a= 1,2,3 # ()생략 가능\n",
    "print(a)\n",
    "\n",
    "a[0] =10 #tuple 값 변경 불가능\n",
    "print(a)"
   ]
  },
  {
   "cell_type": "markdown",
   "metadata": {},
   "source": [
    "### 튜플 언패킹\n",
    " - 여러개의 변수에 동시에 값을 집어넣을 때 사용"
   ]
  },
  {
   "cell_type": "code",
   "execution_count": 61,
   "metadata": {},
   "outputs": [
    {
     "name": "stdout",
     "output_type": "stream",
     "text": [
      "100 200 300 400\n"
     ]
    }
   ],
   "source": [
    "a,b,c,d=(100,200,300,400)\n",
    "print(a,b,c,d)"
   ]
  },
  {
   "cell_type": "code",
   "execution_count": 63,
   "metadata": {},
   "outputs": [
    {
     "name": "stdout",
     "output_type": "stream",
     "text": [
      "200 100\n",
      "100 200\n"
     ]
    }
   ],
   "source": [
    "a=100\n",
    "b=200\n",
    "# java\n",
    "c=a\n",
    "a=b\n",
    "b=c\n",
    "print(a,b) # 200, 100\n",
    "a,b=b,a # python\n",
    "print(a,b)"
   ]
  }
 ],
 "metadata": {
  "kernelspec": {
   "display_name": "Python 3",
   "language": "python",
   "name": "python3"
  },
  "language_info": {
   "codemirror_mode": {
    "name": "ipython",
    "version": 3
   },
   "file_extension": ".py",
   "mimetype": "text/x-python",
   "name": "python",
   "nbconvert_exporter": "python",
   "pygments_lexer": "ipython3",
   "version": "3.7.3"
  }
 },
 "nbformat": 4,
 "nbformat_minor": 2
}
