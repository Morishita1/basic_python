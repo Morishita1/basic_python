{
 "cells": [
  {
   "cell_type": "markdown",
   "metadata": {},
   "source": [
    "### for 반복문\n",
    " ```python\n",
    "    a = [1,2,3,4,5]\n",
    "    for i in a:\n",
    "        print(i, i*2)\n",
    "    # JAVA(일반 for문)\n",
    "for (int i= 0; i<a.size(); i++) {\n",
    "    System.out.println(a[i],a[i]*2);\n",
    "}\n",
    "# JAVA(향상된 for문 : for each)\n",
    "for(NumberDTO nDto : a) {\n",
    "    System.out.println(nDto,nDto*2);\n",
    "}\n",
    " ```"
   ]
  },
  {
   "cell_type": "code",
   "execution_count": 3,
   "metadata": {},
   "outputs": [
    {
     "name": "stdout",
     "output_type": "stream",
     "text": [
      "1 2\n",
      "2 4\n",
      "3 6\n",
      "4 8\n",
      "5 10\n",
      "하하하\n"
     ]
    }
   ],
   "source": [
    "a=[1,2,3,4,5]\n",
    "for i in a: # a의 갯수만큼 반복\n",
    "    print(i, i *2)\n",
    "print('하하하')"
   ]
  },
  {
   "cell_type": "code",
   "execution_count": 5,
   "metadata": {},
   "outputs": [
    {
     "name": "stdout",
     "output_type": "stream",
     "text": [
      "H\n",
      "e\n",
      "l\n",
      "l\n",
      "o\n",
      " \n",
      "P\n",
      "y\n",
      "t\n",
      "h\n",
      "o\n",
      "n\n"
     ]
    }
   ],
   "source": [
    "# 문자열 출력가능\n",
    "for x in 'Hello Python':\n",
    "    print(x)"
   ]
  },
  {
   "cell_type": "code",
   "execution_count": 7,
   "metadata": {},
   "outputs": [
    {
     "name": "stdout",
     "output_type": "stream",
     "text": [
      "1\n",
      "2\n",
      "3\n",
      "4\n",
      "5\n"
     ]
    }
   ],
   "source": [
    "# 리스트 출력가능\n",
    "for num in a:\n",
    "    print(num)"
   ]
  },
  {
   "cell_type": "code",
   "execution_count": 9,
   "metadata": {},
   "outputs": [
    {
     "name": "stdout",
     "output_type": "stream",
     "text": [
      "불꽃 리자몽\n",
      "물 거북왕\n",
      "풀 이상해꽃\n",
      "리자몽\n",
      "거북왕\n",
      "이상해꽃\n",
      "불꽃 리자몽\n",
      "물 거북왕\n",
      "풀 이상해꽃\n"
     ]
    }
   ],
   "source": [
    "# dict 출력가능\n",
    "a ={'불꽃':'리자몽','물':'거북왕','풀':'이상해꽃'}\n",
    "for key in a:\n",
    "    print(key, a[key])\n",
    "for value in a.values():\n",
    "    print(value)\n",
    "list(a.items())\n",
    "\n",
    "for key, value in a.items():\n",
    "    print(key, value)"
   ]
  },
  {
   "cell_type": "markdown",
   "metadata": {},
   "source": [
    "### for에서 index 사용\n",
    " - for는 리스트를 순회하는 경우 값만 가져옴\n",
    " - enumerate 함수를 이용하면 인덱수, 값 모두 사용 가능\n",
    "```python\n",
    "a= [1,2,3,4,5]\n",
    "for i, val in enumerate(a):\n",
    "print i, val\n",
    "```"
   ]
  },
  {
   "cell_type": "code",
   "execution_count": 14,
   "metadata": {},
   "outputs": [
    {
     "name": "stdout",
     "output_type": "stream",
     "text": [
      "4 5\n"
     ]
    }
   ],
   "source": [
    "a=[1,2,3,4,5]\n",
    "for index, num in enumerate(a):\n",
    "    if index > 3:\n",
    "        print(index,num)\n",
    "if num in a:\n",
    "    None\n",
    "if num in a:\n",
    "    pass # if문만 생성하고 실행문은 없을 때 pass 사용"
   ]
  },
  {
   "cell_type": "markdown",
   "metadata": {},
   "source": [
    "### break\n",
    "    - loop 종료!"
   ]
  },
  {
   "cell_type": "code",
   "execution_count": 17,
   "metadata": {},
   "outputs": [
    {
     "name": "stdout",
     "output_type": "stream",
     "text": [
      "100\n",
      "300\n",
      "200\n"
     ]
    }
   ],
   "source": [
    "a= [100,300,200,400,700]\n",
    "for num in a:\n",
    "    if num >300:\n",
    "        break\n",
    "    print(num)"
   ]
  },
  {
   "cell_type": "markdown",
   "metadata": {},
   "source": [
    "###  continue\n",
    " - 해당 아이템을 건너 뛰고 싶을 때 사용"
   ]
  },
  {
   "cell_type": "code",
   "execution_count": 18,
   "metadata": {},
   "outputs": [
    {
     "name": "stdout",
     "output_type": "stream",
     "text": [
      "300\n",
      "400\n",
      "700\n"
     ]
    }
   ],
   "source": [
    "a= [100,300,200,400,700]\n",
    "for num in a:\n",
    "    if num<=200:\n",
    "        continue\n",
    "    print(num)"
   ]
  },
  {
   "cell_type": "code",
   "execution_count": 20,
   "metadata": {},
   "outputs": [
    {
     "name": "stdout",
     "output_type": "stream",
     "text": [
      "1\n",
      "2\n",
      "4\n",
      "2\n",
      "4\n",
      "8\n",
      "4\n",
      "8\n",
      "16\n"
     ]
    }
   ],
   "source": [
    "a=[1,2,4]\n",
    "for i in a:\n",
    "    for j in a:\n",
    "        print(i*j)"
   ]
  },
  {
   "cell_type": "code",
   "execution_count": 29,
   "metadata": {},
   "outputs": [
    {
     "name": "stdout",
     "output_type": "stream",
     "text": [
      "[1, 6, 11, 16, 21, 26, 31, 36, 41, 46, 51, 56, 61, 66, 71, 76, 81, 86, 91, 96]\n",
      "9 X 1 = 9\n",
      "9 X 2 = 18\n",
      "9 X 3 = 27\n",
      "9 X 4 = 36\n",
      "9 X 5 = 45\n",
      "9 X 6 = 54\n",
      "9 X 7 = 63\n",
      "9 X 8 = 72\n",
      "9 X 9 = 81\n",
      "9 X 10 = 90\n",
      "9 X 11 = 99\n",
      "9 X 12 = 108\n",
      "9 X 13 = 117\n",
      "9 X 14 = 126\n",
      "9 X 15 = 135\n",
      "9 X 16 = 144\n",
      "9 X 17 = 153\n",
      "9 X 18 = 162\n",
      "9 X 19 = 171\n"
     ]
    }
   ],
   "source": [
    "# 구구단 9단 만들기\n",
    "num = [1,2,3,4,5,6,7,8,9]\n",
    "# num = range(10) # 첫시작 0\n",
    "num = list(range(1,20))\n",
    "print(list(range(1,100,5))) # (시작값, 끝값, 배수)\n",
    "for i in num:\n",
    "    result = 9*i\n",
    "    print('9 X {} = {}'.format(i,result))"
   ]
  },
  {
   "cell_type": "code",
   "execution_count": 36,
   "metadata": {},
   "outputs": [
    {
     "name": "stdout",
     "output_type": "stream",
     "text": [
      "2 X 1 = 2\n",
      "2 X 2 = 4\n",
      "2 X 3 = 6\n",
      "2 X 4 = 8\n",
      "2 X 5 = 10\n",
      "2 X 6 = 12\n",
      "2 X 7 = 14\n",
      "2 X 8 = 16\n",
      "2 X 9 = 18\n",
      "3 X 1 = 3\n",
      "3 X 2 = 6\n",
      "3 X 3 = 9\n",
      "3 X 4 = 12\n",
      "3 X 5 = 15\n",
      "3 X 6 = 18\n",
      "3 X 7 = 21\n",
      "3 X 8 = 24\n",
      "3 X 9 = 27\n",
      "4 X 1 = 4\n",
      "4 X 2 = 8\n",
      "4 X 3 = 12\n",
      "4 X 4 = 16\n",
      "4 X 5 = 20\n",
      "4 X 6 = 24\n",
      "4 X 7 = 28\n",
      "4 X 8 = 32\n",
      "4 X 9 = 36\n",
      "5 X 1 = 5\n",
      "5 X 2 = 10\n",
      "5 X 3 = 15\n",
      "5 X 4 = 20\n",
      "5 X 5 = 25\n",
      "5 X 6 = 30\n",
      "5 X 7 = 35\n",
      "5 X 8 = 40\n",
      "5 X 9 = 45\n",
      "6 X 1 = 6\n",
      "6 X 2 = 12\n",
      "6 X 3 = 18\n",
      "6 X 4 = 24\n",
      "6 X 5 = 30\n",
      "6 X 6 = 36\n",
      "6 X 7 = 42\n",
      "6 X 8 = 48\n",
      "6 X 9 = 54\n",
      "7 X 1 = 7\n",
      "7 X 2 = 14\n",
      "7 X 3 = 21\n",
      "7 X 4 = 28\n",
      "7 X 5 = 35\n",
      "7 X 6 = 42\n",
      "7 X 7 = 49\n",
      "7 X 8 = 56\n",
      "7 X 9 = 63\n",
      "8 X 1 = 8\n",
      "8 X 2 = 16\n",
      "8 X 3 = 24\n",
      "8 X 4 = 32\n",
      "8 X 5 = 40\n",
      "8 X 6 = 48\n",
      "8 X 7 = 56\n",
      "8 X 8 = 64\n",
      "8 X 9 = 72\n",
      "9 X 1 = 9\n",
      "9 X 2 = 18\n",
      "9 X 3 = 27\n",
      "9 X 4 = 36\n",
      "9 X 5 = 45\n",
      "9 X 6 = 54\n",
      "9 X 7 = 63\n",
      "9 X 8 = 72\n",
      "9 X 9 = 81\n"
     ]
    }
   ],
   "source": [
    "# 2~9단까지 출력\n",
    "dansu = list(range(2,10))\n",
    "num= list(range(1,10))\n",
    "for i in dansu:\n",
    "    for j in num:\n",
    "        result = i * j\n",
    "        print('{} X {} = {}'.format(i,j,result))"
   ]
  },
  {
   "cell_type": "markdown",
   "metadata": {},
   "source": [
    "# 1. 1~100까지 정수 중 2의 배수 11의 배수를 모두 출력하시오"
   ]
  },
  {
   "cell_type": "code",
   "execution_count": 66,
   "metadata": {},
   "outputs": [
    {
     "name": "stdout",
     "output_type": "stream",
     "text": [
      "2\n",
      "4\n",
      "6\n",
      "8\n",
      "10\n",
      "11\n",
      "12\n",
      "14\n",
      "16\n",
      "18\n",
      "20\n",
      "22\n",
      "24\n",
      "26\n",
      "28\n",
      "30\n",
      "32\n",
      "33\n",
      "34\n",
      "36\n",
      "38\n",
      "40\n",
      "42\n",
      "44\n",
      "46\n",
      "48\n",
      "50\n",
      "52\n",
      "54\n",
      "55\n",
      "56\n",
      "58\n",
      "60\n",
      "62\n",
      "64\n",
      "66\n",
      "68\n",
      "70\n",
      "72\n",
      "74\n",
      "76\n",
      "77\n",
      "78\n",
      "80\n",
      "82\n",
      "84\n",
      "86\n",
      "88\n",
      "90\n",
      "92\n",
      "94\n",
      "96\n",
      "98\n",
      "99\n",
      "100\n"
     ]
    }
   ],
   "source": [
    "num = list(range(1,101))\n",
    "\n",
    "for i in num:#if num%2==0 or num%11==0\n",
    "    if i%2 == 0 or i%11 == 0:\n",
    "        print(i)"
   ]
  },
  {
   "cell_type": "markdown",
   "metadata": {},
   "source": [
    "# 2. a=[22, 1, 3, 4, 7, 98, 21, 55, 87, 99, 9, 20, 45] 최대값과 최소값을 찾으시오(sorted, sort 사용금지)"
   ]
  },
  {
   "cell_type": "code",
   "execution_count": 72,
   "metadata": {},
   "outputs": [
    {
     "name": "stdout",
     "output_type": "stream",
     "text": [
      "99 1\n"
     ]
    }
   ],
   "source": [
    "a=[22, 1, 3, 4, 7, 98, 21, 55, 87, 99, 9, 20, 45]\n",
    "b=a[0]\n",
    "c=a[0]\n",
    "for i in a[1:]:\n",
    "    if b < i:\n",
    "        b=i\n",
    "    if c > i:\n",
    "        c=i\n",
    "print(b,c)"
   ]
  },
  {
   "cell_type": "markdown",
   "metadata": {},
   "source": [
    "# 3. a=[22, 1, 3, 4, 7, 98, 21, 55, 87, 99, 9, 20, 45]에서 평균을 구하시요."
   ]
  },
  {
   "cell_type": "code",
   "execution_count": 67,
   "metadata": {},
   "outputs": [
    {
     "name": "stdout",
     "output_type": "stream",
     "text": [
      "36.23076923076923\n"
     ]
    }
   ],
   "source": [
    "a=[22, 1, 3, 4, 7, 98, 21, 55, 87, 99, 9, 20, 45]\n",
    "sum =0\n",
    "for i in a:\n",
    "    sum = sum+i\n",
    "avg = sum/len(a)\n",
    "print(avg)"
   ]
  }
 ],
 "metadata": {
  "kernelspec": {
   "display_name": "Python 3",
   "language": "python",
   "name": "python3"
  },
  "language_info": {
   "codemirror_mode": {
    "name": "ipython",
    "version": 3
   },
   "file_extension": ".py",
   "mimetype": "text/x-python",
   "name": "python",
   "nbconvert_exporter": "python",
   "pygments_lexer": "ipython3",
   "version": "3.7.3"
  }
 },
 "nbformat": 4,
 "nbformat_minor": 2
}
