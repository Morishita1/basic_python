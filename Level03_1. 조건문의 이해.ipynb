{
 "cells": [
  {
   "cell_type": "markdown",
   "metadata": {},
   "source": [
    "### Condition(조건문)\n",
    " - if, elif, else\n",
    " - 모든 조건은 boolean으로 표현\n",
    " - java에서는 블록{} 지정, python 들여쓰기 블록"
   ]
  },
  {
   "cell_type": "markdown",
   "metadata": {},
   "source": [
    "```python\n",
    "\n",
    "if ( a> b) {\n",
    "    System.out.println(\"Hello JAVA\");\n",
    "}\n",
    "\n",
    "if a > b:\n",
    "    print('Hello Python')  \n",
    "```"
   ]
  },
  {
   "cell_type": "code",
   "execution_count": 1,
   "metadata": {},
   "outputs": [
    {
     "name": "stdout",
     "output_type": "stream",
     "text": [
      "주류 구매가 가능합니다.\n"
     ]
    }
   ],
   "source": [
    "age = 20\n",
    "\n",
    "if age >19:\n",
    "    print('주류 구매가 가능합니다.')\n",
    "else:\n",
    "    print('주류 구매가 불가능합니다.')"
   ]
  },
  {
   "cell_type": "markdown",
   "metadata": {},
   "source": [
    "### if의 조건이 boolean이 아닌 경우\n",
    " - 일반적으로는 조건무에 bool이 위치(예:age > 19)\n",
    " - 정수, 실수, 문자열 리스트 등 기본 타입도 조건에 사용 가능"
   ]
  },
  {
   "cell_type": "code",
   "execution_count": 2,
   "metadata": {},
   "outputs": [
    {
     "name": "stdout",
     "output_type": "stream",
     "text": [
      "print\n"
     ]
    }
   ],
   "source": [
    "a=[1]\n",
    "if a: # 리스트에 값이 있으면 True, 없으면 False\n",
    "    print('print')"
   ]
  },
  {
   "cell_type": "markdown",
   "metadata": {},
   "source": [
    "### if문에서 False로 간주되는 값(각 type의 기본값)\n",
    " - None\n",
    " - 0\n",
    " - 0.0\n",
    " - \"\n",
    " - []\n",
    " - ()\n",
    " - {}\n",
    " - set() 이 외에는 모두 True"
   ]
  },
  {
   "cell_type": "code",
   "execution_count": 23,
   "metadata": {},
   "outputs": [
    {
     "name": "stdout",
     "output_type": "stream",
     "text": [
      "B\n"
     ]
    }
   ],
   "source": [
    "# 학점 등급(A, B, C, D, F)\n",
    "# 90점 이상 A\n",
    "# 80점 이상 B\n",
    "# 70점 이상 C\n",
    "# 60점 이상 D\n",
    "# 그외에는 F\n",
    "\n",
    "score = 81\n",
    "\n",
    "\n",
    "# 1.score갓이 0~100 사이인지 유효성 체크\n",
    "# 1번 통과 되면 점수에 따라 등급을 부여 받는 코드 작성\n",
    "\n",
    "# and, or, not : 소문자 사용!\n",
    "if (score >=0 and score <=100):\n",
    "    if score >=90:\n",
    "        print('A')\n",
    "    elif score >=80:\n",
    "        print('B')\n",
    "    elif score >=70:\n",
    "        print('C')\n",
    "    elif score >=60:\n",
    "        print('D')\n",
    "    else :\n",
    "        print('F')"
   ]
  }
 ],
 "metadata": {
  "kernelspec": {
   "display_name": "Python 3",
   "language": "python",
   "name": "python3"
  },
  "language_info": {
   "codemirror_mode": {
    "name": "ipython",
    "version": 3
   },
   "file_extension": ".py",
   "mimetype": "text/x-python",
   "name": "python",
   "nbconvert_exporter": "python",
   "pygments_lexer": "ipython3",
   "version": "3.7.3"
  }
 },
 "nbformat": 4,
 "nbformat_minor": 2
}
