{
 "cells": [
  {
   "cell_type": "code",
   "execution_count": 1,
   "metadata": {},
   "outputs": [],
   "source": [
    "import requests\n",
    "from bs4 import BeautifulSoup"
   ]
  },
  {
   "cell_type": "markdown",
   "metadata": {},
   "source": [
    "###  다음 뉴스 데이터 추출"
   ]
  },
  {
   "cell_type": "code",
   "execution_count": 5,
   "metadata": {},
   "outputs": [
    {
     "name": "stdout",
     "output_type": "stream",
     "text": [
      "KIST \"항암 나노물질 개발, 레이저 쏘면 약효\"..쥐실험으로 확인\n"
     ]
    }
   ],
   "source": [
    "url = 'https://news.v.daum.net/v/20191001120654098'\n",
    "resp = requests.get(url)\n",
    "\n",
    "soup = BeautifulSoup(resp.text)\n",
    "title = soup.find('h3', class_='tit_view') # 뉴스 제목 추출\n",
    "print(title.text)"
   ]
  },
  {
   "cell_type": "markdown",
   "metadata": {},
   "source": [
    "#### **조건이 같은 태그가 여러개 있을 때**\n",
    " + 뉴스의 기자와 작성일자 가져오기"
   ]
  },
  {
   "cell_type": "code",
   "execution_count": 9,
   "metadata": {},
   "outputs": [
    {
     "name": "stdout",
     "output_type": "stream",
     "text": [
      "[<span class=\"txt_info\">김익현 미디어연구소장</span>, <span class=\"txt_info\">입력 2019.10.01. 09:13</span>, <span class=\"txt_info\">수정 2019.10.01. 13:32</span>]\n",
      "김익현 미디어연구소장\n",
      "입력 2019.10.01. 09:13\n",
      "수정 2019.10.01. 13:32\n"
     ]
    }
   ],
   "source": [
    "url = 'https://news.v.daum.net/v/20191001091306434'\n",
    "resp = requests.get(url)\n",
    "\n",
    "soup = BeautifulSoup(resp.text)\n",
    "info = soup.find_all('span', class_='txt_info')\n",
    "print(info)\n",
    "print(info[0].text) # 기자\n",
    "print(info[1].text) # 입력 시간\n",
    "print(info[2].text) # 수정 시간"
   ]
  }
 ],
 "metadata": {
  "kernelspec": {
   "display_name": "Python 3",
   "language": "python",
   "name": "python3"
  },
  "language_info": {
   "codemirror_mode": {
    "name": "ipython",
    "version": 3
   },
   "file_extension": ".py",
   "mimetype": "text/x-python",
   "name": "python",
   "nbconvert_exporter": "python",
   "pygments_lexer": "ipython3",
   "version": "3.7.3"
  }
 },
 "nbformat": 4,
 "nbformat_minor": 2
}
